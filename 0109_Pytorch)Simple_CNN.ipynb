{
  "nbformat": 4,
  "nbformat_minor": 0,
  "metadata": {
    "colab": {
      "name": "0109.Pytorch)Simple CNN.ipynb",
      "provenance": [],
      "collapsed_sections": [],
      "include_colab_link": true
    },
    "kernelspec": {
      "name": "python3",
      "display_name": "Python 3"
    }
  },
  "cells": [
    {
      "cell_type": "markdown",
      "metadata": {
        "id": "view-in-github",
        "colab_type": "text"
      },
      "source": [
        "<a href=\"https://colab.research.google.com/github/HyelinNAM/TIL/blob/master/0109_Pytorch)Simple_CNN.ipynb\" target=\"_parent\"><img src=\"https://colab.research.google.com/assets/colab-badge.svg\" alt=\"Open In Colab\"/></a>"
      ]
    },
    {
      "cell_type": "code",
      "metadata": {
        "id": "je_N8NRbIi4j",
        "colab_type": "code",
        "colab": {}
      },
      "source": [
        "import torch.nn as nn\n",
        "import torch.nn.functional as F\n",
        "\n",
        "class Net(nn.Module):\n",
        "  def __init__(self):\n",
        "    super(Net,self).__init__()\n",
        "    self.conv1 = nn.Conv2d(1,10,5) # input channel (rgb면 3), output channel, kernel size\n",
        "    self.conv2 = nn.Conv2d(10,20,5)\n",
        "    self.mp = nn.MaxPool2d(2)\n",
        "\n",
        "    self.fc = nn.Linear()\n",
        "\n",
        "  def forward(self,x):\n",
        "    in_size = x.size(0) # ?\n",
        "    x = F.relu(self.mp(self.conv1(x)))\n",
        "    x = F.relu(self.mp(self.conv2(x)))\n",
        "    x = x.view(in_size,-1)\n",
        "    x = self.fc(x)\n",
        "    return F.log_softmax(x)"
      ],
      "execution_count": 0,
      "outputs": []
    },
    {
      "cell_type": "code",
      "metadata": {
        "id": "v3TqZ8o-GUyA",
        "colab_type": "code",
        "colab": {}
      },
      "source": [
        "#https://medium.com/@inmoonlight/pytorch%EB%A1%9C-%EB%94%A5%EB%9F%AC%EB%8B%9D%ED%95%98%EA%B8%B0-intro-afd9c67404c3\n",
        "\n",
        "import torch\n",
        "import torch.nn as nn\n",
        "import torch.nn.functional as F\n",
        "import torch.optim as optim\n",
        "import torch.utils.data as data_utils"
      ],
      "execution_count": 0,
      "outputs": []
    },
    {
      "cell_type": "code",
      "metadata": {
        "id": "KsM2dEsPNlSo",
        "colab_type": "code",
        "colab": {}
      },
      "source": [
        "class Net(nn.Module):\n",
        "  def __init__(self):\n",
        "    super(Net,self).__init__()\n",
        "    self.conv1 = nn.Conv2d(1,10,5) # input channel (rgb면 3), output channel, kernel size\n",
        "    self.conv2 = nn.Conv2d(10,20,5)\n",
        "    self.mp = nn.MaxPool2d(2)\n",
        "\n",
        "    self.fc = nn.Linear()\n",
        "\n",
        "class Mymodel(nn.Module):\n",
        "  def __init__ (self,X_dim,y_dim):\n",
        "    super(MyModel,self).__init__()\n",
        "\n",
        "    layer1 = nn.Linear(X_dim,128)\n",
        "    activation1 = nn.ReLU()\n",
        "    layer2 = nn.Linear(128, y_dim)\n",
        "    self.module = nn.Sequential(\n",
        "        layer1,\n",
        "        activation1,\n",
        "        layer2\n",
        "    )\n",
        "\n",
        "  def forward(self,x):\n",
        "    out = self.module(x)\n",
        "    result = F.softmax(out,dim=1)"
      ],
      "execution_count": 0,
      "outputs": []
    },
    {
      "cell_type": "code",
      "metadata": {
        "id": "IltHWNskR02s",
        "colab_type": "code",
        "colab": {}
      },
      "source": [
        "criterion = nn.CrossEntropyLoss()\n",
        "learning_rate = 1e-5\n",
        "optimizer = optim.SGD(model.parameters(),lr=learning_rate)\n",
        "num_epochs = 2\n",
        "num_batches = len(train_loader)\n",
        "\n",
        "for epoch in range(num_epochs):\n",
        "  for i, data in enumerate(train_loader):\n",
        "    x, x_labels = data\n",
        "    "
      ],
      "execution_count": 0,
      "outputs": []
    }
  ]
}