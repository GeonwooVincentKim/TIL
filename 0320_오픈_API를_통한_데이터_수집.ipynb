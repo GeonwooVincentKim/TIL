{
  "nbformat": 4,
  "nbformat_minor": 0,
  "metadata": {
    "colab": {
      "name": "0320_오픈 API를 통한 데이터 수집.ipynb",
      "provenance": [],
      "authorship_tag": "ABX9TyOTi8FFkadfU6yc/hiZkVAk",
      "include_colab_link": true
    },
    "kernelspec": {
      "name": "python3",
      "display_name": "Python 3"
    }
  },
  "cells": [
    {
      "cell_type": "markdown",
      "metadata": {
        "id": "view-in-github",
        "colab_type": "text"
      },
      "source": [
        "<a href=\"https://colab.research.google.com/github/HyelinNAM/TIL/blob/master/0320_%EC%98%A4%ED%94%88_API%EB%A5%BC_%ED%86%B5%ED%95%9C_%EB%8D%B0%EC%9D%B4%ED%84%B0_%EC%88%98%EC%A7%91.ipynb\" target=\"_parent\"><img src=\"https://colab.research.google.com/assets/colab-badge.svg\" alt=\"Open In Colab\"/></a>"
      ]
    },
    {
      "cell_type": "code",
      "metadata": {
        "id": "DZTYTm5XUZD0",
        "colab_type": "code",
        "colab": {}
      },
      "source": [
        "import pandas as pd\n",
        "from bs4 import BeautifulSoup\n",
        "import requests"
      ],
      "execution_count": 0,
      "outputs": []
    },
    {
      "cell_type": "markdown",
      "metadata": {
        "id": "8PCtRazWVpaU",
        "colab_type": "text"
      },
      "source": [
        "## 코드 쪼개보기"
      ]
    },
    {
      "cell_type": "code",
      "metadata": {
        "id": "Gw_dya7BU2N5",
        "colab_type": "code",
        "colab": {}
      },
      "source": [
        "url = 'http://openapi.seoul.go.kr:8088/48426443676e686c39335454676473/xml/CardSubwayStatsNew/1/5/20200101'\n",
        "req = requests.get(url)\n",
        "html = req.text\n",
        "soup = BeautifulSoup(html,'html.parser')\n",
        "codename = soup.find_all('sub_sta_nm')"
      ],
      "execution_count": 0,
      "outputs": []
    },
    {
      "cell_type": "code",
      "metadata": {
        "id": "Mcq2gE6YVYm9",
        "colab_type": "code",
        "colab": {}
      },
      "source": [
        "print(req)\n",
        "print(type(html))\n",
        "print(len(html))\n",
        "print(type(soup))\n",
        "print(len(soup)) # ? "
      ],
      "execution_count": 0,
      "outputs": []
    },
    {
      "cell_type": "code",
      "metadata": {
        "id": "tnxIkCxXX8x0",
        "colab_type": "code",
        "colab": {}
      },
      "source": [
        "print(html)"
      ],
      "execution_count": 0,
      "outputs": []
    },
    {
      "cell_type": "code",
      "metadata": {
        "id": "EnsWCHpWYBTf",
        "colab_type": "code",
        "colab": {
          "base_uri": "https://localhost:8080/",
          "height": 932
        },
        "outputId": "07daec71-e88a-465d-e6b8-d499a818e3b8"
      },
      "source": [
        "print(soup)"
      ],
      "execution_count": 54,
      "outputs": [
        {
          "output_type": "stream",
          "text": [
            "<?xml version=\"1.0\" encoding=\"UTF-8\"?>\n",
            "<cardsubwaystatsnew>\n",
            "<list_total_count>589</list_total_count>\n",
            "<result>\n",
            "<code>INFO-000</code>\n",
            "<message>정상 처리되었습니다</message>\n",
            "</result>\n",
            "<row>\n",
            "<use_dt>20200101</use_dt>\n",
            "<line_num>1호선</line_num>\n",
            "<sub_sta_nm>서울역</sub_sta_nm>\n",
            "<ride_pasgr_num>36470</ride_pasgr_num>\n",
            "<alight_pasgr_num>29895</alight_pasgr_num>\n",
            "<work_dt>20200104</work_dt>\n",
            "</row>\n",
            "<row>\n",
            "<use_dt>20200101</use_dt>\n",
            "<line_num>1호선</line_num>\n",
            "<sub_sta_nm>시청</sub_sta_nm>\n",
            "<ride_pasgr_num>12126</ride_pasgr_num>\n",
            "<alight_pasgr_num>10516</alight_pasgr_num>\n",
            "<work_dt>20200104</work_dt>\n",
            "</row>\n",
            "<row>\n",
            "<use_dt>20200101</use_dt>\n",
            "<line_num>1호선</line_num>\n",
            "<sub_sta_nm>종각</sub_sta_nm>\n",
            "<ride_pasgr_num>20427</ride_pasgr_num>\n",
            "<alight_pasgr_num>16301</alight_pasgr_num>\n",
            "<work_dt>20200104</work_dt>\n",
            "</row>\n",
            "<row>\n",
            "<use_dt>20200101</use_dt>\n",
            "<line_num>1호선</line_num>\n",
            "<sub_sta_nm>종로3가</sub_sta_nm>\n",
            "<ride_pasgr_num>17061</ride_pasgr_num>\n",
            "<alight_pasgr_num>15108</alight_pasgr_num>\n",
            "<work_dt>20200104</work_dt>\n",
            "</row>\n",
            "<row>\n",
            "<use_dt>20200101</use_dt>\n",
            "<line_num>1호선</line_num>\n",
            "<sub_sta_nm>종로5가</sub_sta_nm>\n",
            "<ride_pasgr_num>12672</ride_pasgr_num>\n",
            "<alight_pasgr_num>11939</alight_pasgr_num>\n",
            "<work_dt>20200104</work_dt>\n",
            "</row>\n",
            "</cardsubwaystatsnew>\n",
            "\n"
          ],
          "name": "stdout"
        }
      ]
    },
    {
      "cell_type": "code",
      "metadata": {
        "id": "ULMu5YyIYTKa",
        "colab_type": "code",
        "colab": {
          "base_uri": "https://localhost:8080/",
          "height": 56
        },
        "outputId": "47b2fee3-9a99-4063-e2d4-47511ba103b8"
      },
      "source": [
        "print(codename)"
      ],
      "execution_count": 60,
      "outputs": [
        {
          "output_type": "stream",
          "text": [
            "[<sub_sta_nm>서울역</sub_sta_nm>, <sub_sta_nm>시청</sub_sta_nm>, <sub_sta_nm>종각</sub_sta_nm>, <sub_sta_nm>종로3가</sub_sta_nm>, <sub_sta_nm>종로5가</sub_sta_nm>]\n"
          ],
          "name": "stdout"
        }
      ]
    },
    {
      "cell_type": "code",
      "metadata": {
        "id": "rLhdgOvebwvy",
        "colab_type": "code",
        "colab": {
          "base_uri": "https://localhost:8080/",
          "height": 55
        },
        "outputId": "0529848b-025f-4d52-c512-eb0c6a348041"
      },
      "source": [
        "print(codename[0])\n",
        "print(codename[0].text)"
      ],
      "execution_count": 58,
      "outputs": [
        {
          "output_type": "stream",
          "text": [
            "<sub_sta_nm>서울역</sub_sta_nm>\n",
            "서울역\n"
          ],
          "name": "stdout"
        }
      ]
    },
    {
      "cell_type": "markdown",
      "metadata": {
        "id": "uwZii6uLVsqM",
        "colab_type": "text"
      },
      "source": [
        "## 코드 전체"
      ]
    },
    {
      "cell_type": "code",
      "metadata": {
        "id": "XtWDbZXOVu1E",
        "colab_type": "code",
        "colab": {}
      },
      "source": [
        "startnumber=1\n",
        "endnumber=10 # total 589\n",
        "SubInfo = {}\n",
        "\n",
        "line_nmlist=[]\n",
        "sta_nmlist=[]\n",
        "ride_nmlist=[]\n",
        "alight_nmlist=[]"
      ],
      "execution_count": 0,
      "outputs": []
    },
    {
      "cell_type": "code",
      "metadata": {
        "id": "0ewUO1e7erGG",
        "colab_type": "code",
        "colab": {}
      },
      "source": [
        "while endnumber <= 100 :\n",
        "  url = 'http://openapi.seoul.go.kr:8088/48426443676e686c39335454676473/xml/CardSubwayStatsNew/'+str(startnumber)+'/'+str(endnumber)+'/20200101'\n",
        "  req = requests.get(url)\n",
        "  html = req.text\n",
        "  soup = BeautifulSoup(html,'html.parser')\n",
        "\n",
        "  line_nm = soup.find_all('line_num')\n",
        "  sta_nm = soup.find_all('sub_sta_nm')\n",
        "  ride_nm = soup.find_all('ride_pasgr_num')\n",
        "  alight_nm = soup.find_all('alight_pasgr_num')\n",
        "\n",
        "  for code in line_nm :\n",
        "    line_nmlist.append(code.text)\n",
        "\n",
        "  for code in sta_nm :\n",
        "    sta_nmlist.append(code.text)\n",
        "\n",
        "  for code in ride_nm :\n",
        "    ride_nmlist.append(code.text)\n",
        "\n",
        "  for code in alight_nm :\n",
        "    alight_nmlist.append(code.text)\n",
        "\n",
        "  startnumber+=10\n",
        "  endnumber+=10"
      ],
      "execution_count": 0,
      "outputs": []
    },
    {
      "cell_type": "code",
      "metadata": {
        "id": "wGIJTvcviuq6",
        "colab_type": "code",
        "colab": {}
      },
      "source": [
        "SubInfo['Line'] = line_nmlist\n",
        "SubInfo['Station'] = sta_nmlist\n",
        "SubInfo['Ride'] = ride_nmlist\n",
        "SubInfo['Alight'] = alight_nmlist\n",
        "\n",
        "df = pd.DataFrame(SubInfo)"
      ],
      "execution_count": 0,
      "outputs": []
    },
    {
      "cell_type": "code",
      "metadata": {
        "id": "Jp4p_aAVjIBI",
        "colab_type": "code",
        "colab": {
          "base_uri": "https://localhost:8080/",
          "height": 415
        },
        "outputId": "dfb217b1-52dd-4667-8676-18c1ced12ee6"
      },
      "source": [
        "df"
      ],
      "execution_count": 65,
      "outputs": [
        {
          "output_type": "execute_result",
          "data": {
            "text/html": [
              "<div>\n",
              "<style scoped>\n",
              "    .dataframe tbody tr th:only-of-type {\n",
              "        vertical-align: middle;\n",
              "    }\n",
              "\n",
              "    .dataframe tbody tr th {\n",
              "        vertical-align: top;\n",
              "    }\n",
              "\n",
              "    .dataframe thead th {\n",
              "        text-align: right;\n",
              "    }\n",
              "</style>\n",
              "<table border=\"1\" class=\"dataframe\">\n",
              "  <thead>\n",
              "    <tr style=\"text-align: right;\">\n",
              "      <th></th>\n",
              "      <th>Line</th>\n",
              "      <th>Station</th>\n",
              "      <th>Ride</th>\n",
              "      <th>Alight</th>\n",
              "    </tr>\n",
              "  </thead>\n",
              "  <tbody>\n",
              "    <tr>\n",
              "      <th>0</th>\n",
              "      <td>1호선</td>\n",
              "      <td>서울역</td>\n",
              "      <td>36470</td>\n",
              "      <td>29895</td>\n",
              "    </tr>\n",
              "    <tr>\n",
              "      <th>1</th>\n",
              "      <td>1호선</td>\n",
              "      <td>시청</td>\n",
              "      <td>12126</td>\n",
              "      <td>10516</td>\n",
              "    </tr>\n",
              "    <tr>\n",
              "      <th>2</th>\n",
              "      <td>1호선</td>\n",
              "      <td>종각</td>\n",
              "      <td>20427</td>\n",
              "      <td>16301</td>\n",
              "    </tr>\n",
              "    <tr>\n",
              "      <th>3</th>\n",
              "      <td>1호선</td>\n",
              "      <td>종로3가</td>\n",
              "      <td>17061</td>\n",
              "      <td>15108</td>\n",
              "    </tr>\n",
              "    <tr>\n",
              "      <th>4</th>\n",
              "      <td>1호선</td>\n",
              "      <td>종로5가</td>\n",
              "      <td>12672</td>\n",
              "      <td>11939</td>\n",
              "    </tr>\n",
              "    <tr>\n",
              "      <th>...</th>\n",
              "      <td>...</td>\n",
              "      <td>...</td>\n",
              "      <td>...</td>\n",
              "      <td>...</td>\n",
              "    </tr>\n",
              "    <tr>\n",
              "      <th>95</th>\n",
              "      <td>4호선</td>\n",
              "      <td>노원</td>\n",
              "      <td>11762</td>\n",
              "      <td>12768</td>\n",
              "    </tr>\n",
              "    <tr>\n",
              "      <th>96</th>\n",
              "      <td>4호선</td>\n",
              "      <td>창동</td>\n",
              "      <td>13293</td>\n",
              "      <td>14456</td>\n",
              "    </tr>\n",
              "    <tr>\n",
              "      <th>97</th>\n",
              "      <td>4호선</td>\n",
              "      <td>쌍문</td>\n",
              "      <td>14507</td>\n",
              "      <td>13636</td>\n",
              "    </tr>\n",
              "    <tr>\n",
              "      <th>98</th>\n",
              "      <td>4호선</td>\n",
              "      <td>수유(강북구청)</td>\n",
              "      <td>19290</td>\n",
              "      <td>19269</td>\n",
              "    </tr>\n",
              "    <tr>\n",
              "      <th>99</th>\n",
              "      <td>4호선</td>\n",
              "      <td>미아(서울사이버대학)</td>\n",
              "      <td>7422</td>\n",
              "      <td>7244</td>\n",
              "    </tr>\n",
              "  </tbody>\n",
              "</table>\n",
              "<p>100 rows × 4 columns</p>\n",
              "</div>"
            ],
            "text/plain": [
              "   Line      Station   Ride Alight\n",
              "0   1호선          서울역  36470  29895\n",
              "1   1호선           시청  12126  10516\n",
              "2   1호선           종각  20427  16301\n",
              "3   1호선         종로3가  17061  15108\n",
              "4   1호선         종로5가  12672  11939\n",
              "..  ...          ...    ...    ...\n",
              "95  4호선           노원  11762  12768\n",
              "96  4호선           창동  13293  14456\n",
              "97  4호선           쌍문  14507  13636\n",
              "98  4호선     수유(강북구청)  19290  19269\n",
              "99  4호선  미아(서울사이버대학)   7422   7244\n",
              "\n",
              "[100 rows x 4 columns]"
            ]
          },
          "metadata": {
            "tags": []
          },
          "execution_count": 65
        }
      ]
    }
  ]
}