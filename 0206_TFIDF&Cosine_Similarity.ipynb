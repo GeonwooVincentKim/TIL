{
  "nbformat": 4,
  "nbformat_minor": 0,
  "metadata": {
    "colab": {
      "name": "0206.TF-IDF와 Cosine Similarity",
      "provenance": [],
      "collapsed_sections": [],
      "machine_shape": "hm",
      "authorship_tag": "ABX9TyM4/wu/GlJg5nMEsdoqoVt/",
      "include_colab_link": true
    },
    "kernelspec": {
      "name": "python3",
      "display_name": "Python 3"
    }
  },
  "cells": [
    {
      "cell_type": "markdown",
      "metadata": {
        "id": "view-in-github",
        "colab_type": "text"
      },
      "source": [
        "<a href=\"https://colab.research.google.com/github/HyelinNAM/TIL/blob/master/0206_TFIDF%26Cosine_Similarity.ipynb\" target=\"_parent\"><img src=\"https://colab.research.google.com/assets/colab-badge.svg\" alt=\"Open In Colab\"/></a>"
      ]
    },
    {
      "cell_type": "code",
      "metadata": {
        "id": "uW1j8uPHl4UC",
        "colab_type": "code",
        "colab": {}
      },
      "source": [
        "import pandas as pd\n",
        "import warnings\n",
        "\n",
        "warnings.filterwarnings('ignore')\n",
        "\n",
        "# Code to read csv file into Colaboratory:\n",
        "!pip install -U -q PyDrive\n",
        "from pydrive.auth import GoogleAuth\n",
        "from pydrive.drive import GoogleDrive\n",
        "from google.colab import auth\n",
        "from oauth2client.client import GoogleCredentials\n",
        "\n",
        "# Authenticate and create the PyDrive client\n",
        "auth.authenticate_user()\n",
        "gauth = GoogleAuth()\n",
        "gauth.credentials = GoogleCredentials.get_application_default()\n",
        "drive = GoogleDrive(gauth)\n",
        "\n",
        "link ='https://drive.google.com/open?id=1YXyWrZkuM_3mcNd3UMui3Hp2aQuSV03m'\n",
        "fluff, id = link.split('=')\n",
        "\n",
        "downloaded = drive.CreateFile({'id':id}) \n",
        "downloaded.GetContentFile(\"movies_metadata.csv\")  \n",
        "data = pd.read_csv(\"movies_metadata.csv\")"
      ],
      "execution_count": 0,
      "outputs": []
    },
    {
      "cell_type": "code",
      "metadata": {
        "id": "vlPKtKqsn1lQ",
        "colab_type": "code",
        "outputId": "ffaf63d0-808d-446c-b9bf-b3a8fc2660dc",
        "colab": {
          "base_uri": "https://localhost:8080/",
          "height": 148
        }
      },
      "source": [
        "data.columns"
      ],
      "execution_count": 0,
      "outputs": [
        {
          "output_type": "execute_result",
          "data": {
            "text/plain": [
              "Index(['adult', 'belongs_to_collection', 'budget', 'genres', 'homepage', 'id',\n",
              "       'imdb_id', 'original_language', 'original_title', 'overview',\n",
              "       'popularity', 'poster_path', 'production_companies',\n",
              "       'production_countries', 'release_date', 'revenue', 'runtime',\n",
              "       'spoken_languages', 'status', 'tagline', 'title', 'video',\n",
              "       'vote_average', 'vote_count'],\n",
              "      dtype='object')"
            ]
          },
          "metadata": {
            "tags": []
          },
          "execution_count": 21
        }
      ]
    },
    {
      "cell_type": "code",
      "metadata": {
        "id": "Z1h6w6hynO5D",
        "colab_type": "code",
        "outputId": "e1b73ab0-bddf-4d70-ba70-d02a4cd6053a",
        "colab": {
          "base_uri": "https://localhost:8080/",
          "height": 655
        }
      },
      "source": [
        "data.head()"
      ],
      "execution_count": 0,
      "outputs": [
        {
          "output_type": "execute_result",
          "data": {
            "text/html": [
              "<div>\n",
              "<style scoped>\n",
              "    .dataframe tbody tr th:only-of-type {\n",
              "        vertical-align: middle;\n",
              "    }\n",
              "\n",
              "    .dataframe tbody tr th {\n",
              "        vertical-align: top;\n",
              "    }\n",
              "\n",
              "    .dataframe thead th {\n",
              "        text-align: right;\n",
              "    }\n",
              "</style>\n",
              "<table border=\"1\" class=\"dataframe\">\n",
              "  <thead>\n",
              "    <tr style=\"text-align: right;\">\n",
              "      <th></th>\n",
              "      <th>adult</th>\n",
              "      <th>belongs_to_collection</th>\n",
              "      <th>budget</th>\n",
              "      <th>genres</th>\n",
              "      <th>homepage</th>\n",
              "      <th>id</th>\n",
              "      <th>imdb_id</th>\n",
              "      <th>original_language</th>\n",
              "      <th>original_title</th>\n",
              "      <th>overview</th>\n",
              "      <th>popularity</th>\n",
              "      <th>poster_path</th>\n",
              "      <th>production_companies</th>\n",
              "      <th>production_countries</th>\n",
              "      <th>release_date</th>\n",
              "      <th>revenue</th>\n",
              "      <th>runtime</th>\n",
              "      <th>spoken_languages</th>\n",
              "      <th>status</th>\n",
              "      <th>tagline</th>\n",
              "      <th>title</th>\n",
              "      <th>video</th>\n",
              "      <th>vote_average</th>\n",
              "      <th>vote_count</th>\n",
              "    </tr>\n",
              "  </thead>\n",
              "  <tbody>\n",
              "    <tr>\n",
              "      <th>0</th>\n",
              "      <td>False</td>\n",
              "      <td>{'id': 10194, 'name': 'Toy Story Collection', ...</td>\n",
              "      <td>30000000</td>\n",
              "      <td>[{'id': 16, 'name': 'Animation'}, {'id': 35, '...</td>\n",
              "      <td>http://toystory.disney.com/toy-story</td>\n",
              "      <td>862</td>\n",
              "      <td>tt0114709</td>\n",
              "      <td>en</td>\n",
              "      <td>Toy Story</td>\n",
              "      <td>Led by Woody, Andy's toys live happily in his ...</td>\n",
              "      <td>21.9469</td>\n",
              "      <td>/rhIRbceoE9lR4veEXuwCC2wARtG.jpg</td>\n",
              "      <td>[{'name': 'Pixar Animation Studios', 'id': 3}]</td>\n",
              "      <td>[{'iso_3166_1': 'US', 'name': 'United States o...</td>\n",
              "      <td>1995-10-30</td>\n",
              "      <td>373554033.0</td>\n",
              "      <td>81.0</td>\n",
              "      <td>[{'iso_639_1': 'en', 'name': 'English'}]</td>\n",
              "      <td>Released</td>\n",
              "      <td>NaN</td>\n",
              "      <td>Toy Story</td>\n",
              "      <td>False</td>\n",
              "      <td>7.7</td>\n",
              "      <td>5415.0</td>\n",
              "    </tr>\n",
              "    <tr>\n",
              "      <th>1</th>\n",
              "      <td>False</td>\n",
              "      <td>NaN</td>\n",
              "      <td>65000000</td>\n",
              "      <td>[{'id': 12, 'name': 'Adventure'}, {'id': 14, '...</td>\n",
              "      <td>NaN</td>\n",
              "      <td>8844</td>\n",
              "      <td>tt0113497</td>\n",
              "      <td>en</td>\n",
              "      <td>Jumanji</td>\n",
              "      <td>When siblings Judy and Peter discover an encha...</td>\n",
              "      <td>17.0155</td>\n",
              "      <td>/vzmL6fP7aPKNKPRTFnZmiUfciyV.jpg</td>\n",
              "      <td>[{'name': 'TriStar Pictures', 'id': 559}, {'na...</td>\n",
              "      <td>[{'iso_3166_1': 'US', 'name': 'United States o...</td>\n",
              "      <td>1995-12-15</td>\n",
              "      <td>262797249.0</td>\n",
              "      <td>104.0</td>\n",
              "      <td>[{'iso_639_1': 'en', 'name': 'English'}, {'iso...</td>\n",
              "      <td>Released</td>\n",
              "      <td>Roll the dice and unleash the excitement!</td>\n",
              "      <td>Jumanji</td>\n",
              "      <td>False</td>\n",
              "      <td>6.9</td>\n",
              "      <td>2413.0</td>\n",
              "    </tr>\n",
              "    <tr>\n",
              "      <th>2</th>\n",
              "      <td>False</td>\n",
              "      <td>{'id': 119050, 'name': 'Grumpy Old Men Collect...</td>\n",
              "      <td>0</td>\n",
              "      <td>[{'id': 10749, 'name': 'Romance'}, {'id': 35, ...</td>\n",
              "      <td>NaN</td>\n",
              "      <td>15602</td>\n",
              "      <td>tt0113228</td>\n",
              "      <td>en</td>\n",
              "      <td>Grumpier Old Men</td>\n",
              "      <td>A family wedding reignites the ancient feud be...</td>\n",
              "      <td>11.7129</td>\n",
              "      <td>/6ksm1sjKMFLbO7UY2i6G1ju9SML.jpg</td>\n",
              "      <td>[{'name': 'Warner Bros.', 'id': 6194}, {'name'...</td>\n",
              "      <td>[{'iso_3166_1': 'US', 'name': 'United States o...</td>\n",
              "      <td>1995-12-22</td>\n",
              "      <td>0.0</td>\n",
              "      <td>101.0</td>\n",
              "      <td>[{'iso_639_1': 'en', 'name': 'English'}]</td>\n",
              "      <td>Released</td>\n",
              "      <td>Still Yelling. Still Fighting. Still Ready for...</td>\n",
              "      <td>Grumpier Old Men</td>\n",
              "      <td>False</td>\n",
              "      <td>6.5</td>\n",
              "      <td>92.0</td>\n",
              "    </tr>\n",
              "    <tr>\n",
              "      <th>3</th>\n",
              "      <td>False</td>\n",
              "      <td>NaN</td>\n",
              "      <td>16000000</td>\n",
              "      <td>[{'id': 35, 'name': 'Comedy'}, {'id': 18, 'nam...</td>\n",
              "      <td>NaN</td>\n",
              "      <td>31357</td>\n",
              "      <td>tt0114885</td>\n",
              "      <td>en</td>\n",
              "      <td>Waiting to Exhale</td>\n",
              "      <td>Cheated on, mistreated and stepped on, the wom...</td>\n",
              "      <td>3.85949</td>\n",
              "      <td>/16XOMpEaLWkrcPqSQqhTmeJuqQl.jpg</td>\n",
              "      <td>[{'name': 'Twentieth Century Fox Film Corporat...</td>\n",
              "      <td>[{'iso_3166_1': 'US', 'name': 'United States o...</td>\n",
              "      <td>1995-12-22</td>\n",
              "      <td>81452156.0</td>\n",
              "      <td>127.0</td>\n",
              "      <td>[{'iso_639_1': 'en', 'name': 'English'}]</td>\n",
              "      <td>Released</td>\n",
              "      <td>Friends are the people who let you be yourself...</td>\n",
              "      <td>Waiting to Exhale</td>\n",
              "      <td>False</td>\n",
              "      <td>6.1</td>\n",
              "      <td>34.0</td>\n",
              "    </tr>\n",
              "    <tr>\n",
              "      <th>4</th>\n",
              "      <td>False</td>\n",
              "      <td>{'id': 96871, 'name': 'Father of the Bride Col...</td>\n",
              "      <td>0</td>\n",
              "      <td>[{'id': 35, 'name': 'Comedy'}]</td>\n",
              "      <td>NaN</td>\n",
              "      <td>11862</td>\n",
              "      <td>tt0113041</td>\n",
              "      <td>en</td>\n",
              "      <td>Father of the Bride Part II</td>\n",
              "      <td>Just when George Banks has recovered from his ...</td>\n",
              "      <td>8.38752</td>\n",
              "      <td>/e64sOI48hQXyru7naBFyssKFxVd.jpg</td>\n",
              "      <td>[{'name': 'Sandollar Productions', 'id': 5842}...</td>\n",
              "      <td>[{'iso_3166_1': 'US', 'name': 'United States o...</td>\n",
              "      <td>1995-02-10</td>\n",
              "      <td>76578911.0</td>\n",
              "      <td>106.0</td>\n",
              "      <td>[{'iso_639_1': 'en', 'name': 'English'}]</td>\n",
              "      <td>Released</td>\n",
              "      <td>Just When His World Is Back To Normal... He's ...</td>\n",
              "      <td>Father of the Bride Part II</td>\n",
              "      <td>False</td>\n",
              "      <td>5.7</td>\n",
              "      <td>173.0</td>\n",
              "    </tr>\n",
              "  </tbody>\n",
              "</table>\n",
              "</div>"
            ],
            "text/plain": [
              "   adult  ... vote_count\n",
              "0  False  ...     5415.0\n",
              "1  False  ...     2413.0\n",
              "2  False  ...       92.0\n",
              "3  False  ...       34.0\n",
              "4  False  ...      173.0\n",
              "\n",
              "[5 rows x 24 columns]"
            ]
          },
          "metadata": {
            "tags": []
          },
          "execution_count": 22
        }
      ]
    },
    {
      "cell_type": "code",
      "metadata": {
        "id": "feE-4_FMn5Id",
        "colab_type": "code",
        "colab": {}
      },
      "source": [
        "data = data.head(20000)"
      ],
      "execution_count": 0,
      "outputs": []
    },
    {
      "cell_type": "code",
      "metadata": {
        "id": "X6VJg8Dxn-PH",
        "colab_type": "code",
        "outputId": "2a524757-a978-4194-d21a-e7da70ed772b",
        "colab": {
          "base_uri": "https://localhost:8080/",
          "height": 241
        }
      },
      "source": [
        "data['overview'].isnull() # Null 값 체크"
      ],
      "execution_count": 0,
      "outputs": [
        {
          "output_type": "execute_result",
          "data": {
            "text/plain": [
              "0        False\n",
              "1        False\n",
              "2        False\n",
              "3        False\n",
              "4        False\n",
              "         ...  \n",
              "19995    False\n",
              "19996    False\n",
              "19997    False\n",
              "19998    False\n",
              "19999    False\n",
              "Name: overview, Length: 20000, dtype: bool"
            ]
          },
          "metadata": {
            "tags": []
          },
          "execution_count": 24
        }
      ]
    },
    {
      "cell_type": "code",
      "metadata": {
        "id": "4OTN6p1LoDjd",
        "colab_type": "code",
        "colab": {}
      },
      "source": [
        "data['overview'] = data['overview'].fillna('')"
      ],
      "execution_count": 0,
      "outputs": []
    },
    {
      "cell_type": "code",
      "metadata": {
        "id": "dLZ8W2ytnwWp",
        "colab_type": "code",
        "colab": {}
      },
      "source": [
        "from sklearn.feature_extraction.text import TfidfVectorizer\n",
        "\n",
        "tfidf = TfidfVectorizer(stop_words='english')"
      ],
      "execution_count": 0,
      "outputs": []
    },
    {
      "cell_type": "code",
      "metadata": {
        "id": "I1AB7NyDoCRL",
        "colab_type": "code",
        "outputId": "2018de75-f36c-4666-a8b2-94135579b161",
        "colab": {
          "base_uri": "https://localhost:8080/",
          "height": 148
        }
      },
      "source": [
        "tfidf"
      ],
      "execution_count": 0,
      "outputs": [
        {
          "output_type": "execute_result",
          "data": {
            "text/plain": [
              "TfidfVectorizer(analyzer='word', binary=False, decode_error='strict',\n",
              "                dtype=<class 'numpy.float64'>, encoding='utf-8',\n",
              "                input='content', lowercase=True, max_df=1.0, max_features=None,\n",
              "                min_df=1, ngram_range=(1, 1), norm='l2', preprocessor=None,\n",
              "                smooth_idf=True, stop_words='english', strip_accents=None,\n",
              "                sublinear_tf=False, token_pattern='(?u)\\\\b\\\\w\\\\w+\\\\b',\n",
              "                tokenizer=None, use_idf=True, vocabulary=None)"
            ]
          },
          "metadata": {
            "tags": []
          },
          "execution_count": 27
        }
      ]
    },
    {
      "cell_type": "code",
      "metadata": {
        "id": "OI9n0mL_oEav",
        "colab_type": "code",
        "colab": {}
      },
      "source": [
        "tfidf_matrix = tfidf.fit_transform(data['overview'])"
      ],
      "execution_count": 0,
      "outputs": []
    },
    {
      "cell_type": "code",
      "metadata": {
        "id": "vZCzgrFtGqJT",
        "colab_type": "code",
        "outputId": "79e64ce8-a73f-436a-bd45-40d97f4e6d7b",
        "colab": {
          "base_uri": "https://localhost:8080/",
          "height": 36
        }
      },
      "source": [
        "tfidf_ar = tfidf_matrix.toarray()\n",
        "print(type(tfidf_ar))"
      ],
      "execution_count": 0,
      "outputs": [
        {
          "output_type": "stream",
          "text": [
            "<class 'numpy.ndarray'>\n"
          ],
          "name": "stdout"
        }
      ]
    },
    {
      "cell_type": "code",
      "metadata": {
        "id": "i4qaqtRCTXPu",
        "colab_type": "code",
        "colab": {}
      },
      "source": [
        "import numpy as np\n",
        "\n",
        "np.set_printoptions(threshold=10)"
      ],
      "execution_count": 0,
      "outputs": []
    },
    {
      "cell_type": "code",
      "metadata": {
        "id": "WPUceR6ao2-h",
        "colab_type": "code",
        "outputId": "bb146753-70fe-4f34-96f0-b6e83371ac24",
        "colab": {
          "base_uri": "https://localhost:8080/",
          "height": 1000
        }
      },
      "source": [
        "print(type(tfidf_matrix))\n",
        "print(tfidf_matrix.shape)\n",
        "print(tfidf_matrix)"
      ],
      "execution_count": 0,
      "outputs": [
        {
          "output_type": "stream",
          "text": [
            "<class 'scipy.sparse.csr.csr_matrix'>\n",
            "(20000, 47487)\n",
            "  (0, 11645)\t0.13942792746208266\n",
            "  (0, 2811)\t0.1524688231743182\n",
            "  (0, 24325)\t0.10272285889754121\n",
            "  (0, 14393)\t0.10323587624822204\n",
            "  (0, 12920)\t0.13359137839416452\n",
            "  (0, 30780)\t0.10362949000778948\n",
            "  (0, 37778)\t0.13329592929044795\n",
            "  (0, 7974)\t0.13030575543855816\n",
            "  (0, 32424)\t0.13359137839416452\n",
            "  (0, 19047)\t0.10485920860731182\n",
            "  (0, 32291)\t0.09637786759647918\n",
            "  (0, 25229)\t0.12052668500637997\n",
            "  (0, 1254)\t0.1489611323980068\n",
            "  (0, 37166)\t0.11699407550916606\n",
            "  (0, 24759)\t0.19553422928903877\n",
            "  (0, 6290)\t0.5036643709879097\n",
            "  (0, 5775)\t0.10961099833635705\n",
            "  (0, 4736)\t0.12600776612424489\n",
            "  (0, 36185)\t0.11514050233158798\n",
            "  (0, 18727)\t0.13359137839416452\n",
            "  (0, 24957)\t0.09146351035625488\n",
            "  (0, 43131)\t0.15491381382108724\n",
            "  (0, 2051)\t0.4159373110833513\n",
            "  (0, 46617)\t0.46474144146326174\n",
            "  (0, 24361)\t0.10943293956646011\n",
            "  :\t:\n",
            "  (19997, 13221)\t0.17897321248705433\n",
            "  (19997, 37592)\t0.15166031585027698\n",
            "  (19997, 45919)\t0.1821847673691749\n",
            "  (19997, 46772)\t0.14244710628029003\n",
            "  (19997, 21552)\t0.15423289582259722\n",
            "  (19997, 2517)\t0.19144340456445616\n",
            "  (19997, 35018)\t0.12079430955239955\n",
            "  (19997, 15493)\t0.08950278201939495\n",
            "  (19997, 29263)\t0.08327821667314726\n",
            "  (19997, 22125)\t0.15561995376233795\n",
            "  (19998, 34978)\t0.5686453250841403\n",
            "  (19998, 25239)\t0.5300420112528954\n",
            "  (19998, 2123)\t0.4914386974216504\n",
            "  (19998, 15959)\t0.2634131459925457\n",
            "  (19998, 46646)\t0.24224167485285572\n",
            "  (19998, 24713)\t0.16161204387743677\n",
            "  (19999, 21100)\t0.37141985908973846\n",
            "  (19999, 11225)\t0.3967094056723883\n",
            "  (19999, 17084)\t0.42580907795020684\n",
            "  (19999, 24392)\t0.3547620606044795\n",
            "  (19999, 23527)\t0.3198603932842145\n",
            "  (19999, 33267)\t0.29959318467784873\n",
            "  (19999, 23261)\t0.25876343109753314\n",
            "  (19999, 15506)\t0.27438105359261933\n",
            "  (19999, 25155)\t0.2513746643446116\n"
          ],
          "name": "stdout"
        }
      ]
    },
    {
      "cell_type": "code",
      "metadata": {
        "id": "W2VV12CXLD_5",
        "colab_type": "code",
        "colab": {}
      },
      "source": [
        "from sklearn.metrics.pairwise import linear_kernel\n",
        "\n",
        "cosine_sim = linear_kernel(tfidf_matrix,tfidf_matrix)"
      ],
      "execution_count": 0,
      "outputs": []
    },
    {
      "cell_type": "code",
      "metadata": {
        "id": "xKo3DWSXaL4-",
        "colab_type": "code",
        "outputId": "4dd3a273-cc75-4b90-dc17-be9b16aa424a",
        "colab": {
          "base_uri": "https://localhost:8080/",
          "height": 36
        }
      },
      "source": [
        "type(cosine_sim)"
      ],
      "execution_count": 0,
      "outputs": [
        {
          "output_type": "execute_result",
          "data": {
            "text/plain": [
              "numpy.ndarray"
            ]
          },
          "metadata": {
            "tags": []
          },
          "execution_count": 64
        }
      ]
    },
    {
      "cell_type": "code",
      "metadata": {
        "id": "3wUwmoyFU3O9",
        "colab_type": "code",
        "outputId": "b9ca210c-9551-40de-9d71-7bc970089311",
        "colab": {
          "base_uri": "https://localhost:8080/",
          "height": 148
        }
      },
      "source": [
        "import pandas as pd\n",
        "\n",
        "indices = pd.Series(data.index, index=data['title'])\n",
        "print(indices.head())"
      ],
      "execution_count": 0,
      "outputs": [
        {
          "output_type": "stream",
          "text": [
            "title\n",
            "Toy Story                      0\n",
            "Jumanji                        1\n",
            "Grumpier Old Men               2\n",
            "Waiting to Exhale              3\n",
            "Father of the Bride Part II    4\n",
            "dtype: int64\n"
          ],
          "name": "stdout"
        }
      ]
    },
    {
      "cell_type": "code",
      "metadata": {
        "id": "JsoGdnNXWbSS",
        "colab_type": "code",
        "outputId": "ac0ecdce-401a-427b-8aef-697b935d8b3d",
        "colab": {
          "base_uri": "https://localhost:8080/",
          "height": 36
        }
      },
      "source": [
        "idx = indices['Jumanji']\n",
        "print(idx)"
      ],
      "execution_count": 0,
      "outputs": [
        {
          "output_type": "stream",
          "text": [
            "1\n"
          ],
          "name": "stdout"
        }
      ]
    },
    {
      "cell_type": "code",
      "metadata": {
        "id": "UCTfXjAkWiw0",
        "colab_type": "code",
        "colab": {}
      },
      "source": [
        "def get_recommendations(title, cosine_sim=cosine_sim):\n",
        "  idx = indices[title]\n",
        "\n",
        "  sim_scores = list(enumerate(cosine_sim[idx]))\n",
        "  sim_scores = sorted(sim_scores,key=lambda x: x[1],reverse=True)\n",
        "  sim_scores = sim_scores[1:11]\n",
        "  movie_indices = [i[0] for i in sim_scores]\n",
        "\n",
        "  return data['title'].iloc[movie_indices]"
      ],
      "execution_count": 0,
      "outputs": []
    },
    {
      "cell_type": "code",
      "metadata": {
        "id": "0SrPbnL1XDhW",
        "colab_type": "code",
        "outputId": "5e48b45d-1333-4ed1-831b-6b63d4f031eb",
        "colab": {
          "base_uri": "https://localhost:8080/",
          "height": 223
        }
      },
      "source": [
        "get_recommendations('Batman Forever')"
      ],
      "execution_count": 0,
      "outputs": [
        {
          "output_type": "execute_result",
          "data": {
            "text/plain": [
              "18252                      The Dark Knight Rises\n",
              "19792    Batman: The Dark Knight Returns, Part 1\n",
              "12481                            The Dark Knight\n",
              "3095                Batman: Mask of the Phantasm\n",
              "10122                              Batman Begins\n",
              "1328                              Batman Returns\n",
              "15511                 Batman: Under the Red Hood\n",
              "9230          Batman Beyond: Return of the Joker\n",
              "1491                              Batman & Robin\n",
              "18035                           Batman: Year One\n",
              "Name: title, dtype: object"
            ]
          },
          "metadata": {
            "tags": []
          },
          "execution_count": 70
        }
      ]
    }
  ]
}