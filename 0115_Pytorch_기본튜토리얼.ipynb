{
  "nbformat": 4,
  "nbformat_minor": 0,
  "metadata": {
    "colab": {
      "name": "0115.Pytorch  기본 튜토리얼.ipynb",
      "provenance": [],
      "authorship_tag": "ABX9TyPzTH0/PQvgUPc5Nmw3SDio",
      "include_colab_link": true
    },
    "kernelspec": {
      "name": "python3",
      "display_name": "Python 3"
    },
    "accelerator": "GPU"
  },
  "cells": [
    {
      "cell_type": "markdown",
      "metadata": {
        "id": "view-in-github",
        "colab_type": "text"
      },
      "source": [
        "<a href=\"https://colab.research.google.com/github/HyelinNAM/TIL/blob/master/0115_Pytorch_%EA%B8%B0%EB%B3%B8%ED%8A%9C%ED%86%A0%EB%A6%AC%EC%96%BC.ipynb\" target=\"_parent\"><img src=\"https://colab.research.google.com/assets/colab-badge.svg\" alt=\"Open In Colab\"/></a>"
      ]
    },
    {
      "cell_type": "code",
      "metadata": {
        "id": "DeyTShtW7mmo",
        "colab_type": "code",
        "colab": {}
      },
      "source": [
        "# https://tutorials.pytorch.kr/"
      ],
      "execution_count": 0,
      "outputs": []
    },
    {
      "cell_type": "code",
      "metadata": {
        "id": "xs9AxaP48gUd",
        "colab_type": "code",
        "outputId": "143678b5-8c05-4660-ad0a-9e46d0e47fc3",
        "colab": {
          "base_uri": "https://localhost:8080/",
          "height": 111
        }
      },
      "source": [
        "#1. 시작하기\n",
        "\n",
        "import torch\n",
        "\n",
        "x = torch.empty(5,3)\n",
        "print(x)"
      ],
      "execution_count": 0,
      "outputs": [
        {
          "output_type": "stream",
          "text": [
            "tensor([[4.6370e-36, 0.0000e+00, 0.0000e+00],\n",
            "        [0.0000e+00, 0.0000e+00, 0.0000e+00],\n",
            "        [0.0000e+00, 0.0000e+00, 2.8026e-45],\n",
            "        [0.0000e+00, 1.1210e-44, 0.0000e+00],\n",
            "        [1.4013e-45, 0.0000e+00, 0.0000e+00]])\n"
          ],
          "name": "stdout"
        }
      ]
    },
    {
      "cell_type": "code",
      "metadata": {
        "id": "6fVTu4-y8u52",
        "colab_type": "code",
        "outputId": "b77ff402-f0aa-418d-c1d4-c24bfce7980c",
        "colab": {
          "base_uri": "https://localhost:8080/",
          "height": 129
        }
      },
      "source": [
        "x = torch.rand(5,3)\n",
        "print(type(x))\n",
        "print(x)"
      ],
      "execution_count": 0,
      "outputs": [
        {
          "output_type": "stream",
          "text": [
            "<class 'torch.Tensor'>\n",
            "tensor([[0.3211, 0.4622, 0.4851],\n",
            "        [0.6089, 0.8447, 0.6532],\n",
            "        [0.9790, 0.5675, 0.5753],\n",
            "        [0.5811, 0.2918, 0.4674],\n",
            "        [0.9756, 0.9197, 0.5079]])\n"
          ],
          "name": "stdout"
        }
      ]
    },
    {
      "cell_type": "code",
      "metadata": {
        "id": "blec21e585i6",
        "colab_type": "code",
        "outputId": "bf506c2d-6996-46e7-c833-0ef2746579e7",
        "colab": {
          "base_uri": "https://localhost:8080/",
          "height": 36
        }
      },
      "source": [
        "x = torch.tensor([5.5,3])\n",
        "print(x)"
      ],
      "execution_count": 0,
      "outputs": [
        {
          "output_type": "stream",
          "text": [
            "tensor([5.5000, 3.0000])\n"
          ],
          "name": "stdout"
        }
      ]
    },
    {
      "cell_type": "code",
      "metadata": {
        "id": "wi9rwlU39PDd",
        "colab_type": "code",
        "outputId": "28a19be0-7140-4ce1-843f-d66ed76427e6",
        "colab": {
          "base_uri": "https://localhost:8080/",
          "height": 55
        }
      },
      "source": [
        "x = torch.tensor([[5,4],[3,2]])\n",
        "print(x)"
      ],
      "execution_count": 0,
      "outputs": [
        {
          "output_type": "stream",
          "text": [
            "tensor([[5, 4],\n",
            "        [3, 2]])\n"
          ],
          "name": "stdout"
        }
      ]
    },
    {
      "cell_type": "code",
      "metadata": {
        "id": "48HudfOF97YS",
        "colab_type": "code",
        "outputId": "6a43e712-33f3-4531-f460-8681e83800a9",
        "colab": {
          "base_uri": "https://localhost:8080/",
          "height": 36
        }
      },
      "source": [
        "x.size()"
      ],
      "execution_count": 0,
      "outputs": [
        {
          "output_type": "execute_result",
          "data": {
            "text/plain": [
              "torch.Size([2, 2])"
            ]
          },
          "metadata": {
            "tags": []
          },
          "execution_count": 6
        }
      ]
    },
    {
      "cell_type": "code",
      "metadata": {
        "id": "4ip6tElr94BM",
        "colab_type": "code",
        "outputId": "7daf72a5-4283-43ef-b138-cfc1b3710f0b",
        "colab": {
          "base_uri": "https://localhost:8080/",
          "height": 335
        }
      },
      "source": [
        "# 2.연산\n",
        "x = torch.rand(5,3)\n",
        "y = torch.rand(5,3)\n",
        "\n",
        "print(x)\n",
        "print()\n",
        "print(y)\n",
        "print()\n",
        "print(x+y)"
      ],
      "execution_count": 0,
      "outputs": [
        {
          "output_type": "stream",
          "text": [
            "tensor([[0.2574, 0.5454, 0.3703],\n",
            "        [0.8682, 0.7261, 0.6678],\n",
            "        [0.4384, 0.1517, 0.5448],\n",
            "        [0.1068, 0.3342, 0.8934],\n",
            "        [0.3876, 0.8031, 0.1862]])\n",
            "\n",
            "tensor([[0.3870, 0.4826, 0.8262],\n",
            "        [0.8001, 0.4943, 0.7784],\n",
            "        [0.9088, 0.8783, 0.1167],\n",
            "        [0.8005, 0.1502, 0.7089],\n",
            "        [0.3769, 0.0987, 0.1983]])\n",
            "\n",
            "tensor([[0.6444, 1.0281, 1.1966],\n",
            "        [1.6683, 1.2204, 1.4462],\n",
            "        [1.3471, 1.0300, 0.6614],\n",
            "        [0.9073, 0.4843, 1.6023],\n",
            "        [0.7646, 0.9018, 0.3845]])\n"
          ],
          "name": "stdout"
        }
      ]
    },
    {
      "cell_type": "code",
      "metadata": {
        "id": "ILuIn7W-AP8Y",
        "colab_type": "code",
        "outputId": "f9e6ef62-867f-4743-fd60-3d1a82f7655c",
        "colab": {
          "base_uri": "https://localhost:8080/",
          "height": 223
        }
      },
      "source": [
        "print(torch.add(x,y))\n",
        "print()\n",
        "print(y.add_(x))"
      ],
      "execution_count": 0,
      "outputs": [
        {
          "output_type": "stream",
          "text": [
            "tensor([[0.6444, 1.0281, 1.1966],\n",
            "        [1.6683, 1.2204, 1.4462],\n",
            "        [1.3471, 1.0300, 0.6614],\n",
            "        [0.9073, 0.4843, 1.6023],\n",
            "        [0.7646, 0.9018, 0.3845]])\n",
            "\n",
            "tensor([[0.6444, 1.0281, 1.1966],\n",
            "        [1.6683, 1.2204, 1.4462],\n",
            "        [1.3471, 1.0300, 0.6614],\n",
            "        [0.9073, 0.4843, 1.6023],\n",
            "        [0.7646, 0.9018, 0.3845]])\n"
          ],
          "name": "stdout"
        }
      ]
    },
    {
      "cell_type": "code",
      "metadata": {
        "id": "8MfEa3ciAZbm",
        "colab_type": "code",
        "outputId": "02aabe25-5a2e-4177-9a50-188df77da6bc",
        "colab": {
          "base_uri": "https://localhost:8080/",
          "height": 223
        }
      },
      "source": [
        "print(x)\n",
        "print()\n",
        "print(x[:,:1])"
      ],
      "execution_count": 0,
      "outputs": [
        {
          "output_type": "stream",
          "text": [
            "tensor([[0.2574, 0.5454, 0.3703],\n",
            "        [0.8682, 0.7261, 0.6678],\n",
            "        [0.4384, 0.1517, 0.5448],\n",
            "        [0.1068, 0.3342, 0.8934],\n",
            "        [0.3876, 0.8031, 0.1862]])\n",
            "\n",
            "tensor([[0.2574],\n",
            "        [0.8682],\n",
            "        [0.4384],\n",
            "        [0.1068],\n",
            "        [0.3876]])\n"
          ],
          "name": "stdout"
        }
      ]
    },
    {
      "cell_type": "code",
      "metadata": {
        "id": "8iSOMmMj9zX4",
        "colab_type": "code",
        "outputId": "f3810e53-9490-44bd-a96c-7e0a04f02c59",
        "colab": {
          "base_uri": "https://localhost:8080/",
          "height": 168
        }
      },
      "source": [
        "x = torch.randn(4,4)\n",
        "print(x)\n",
        "y = x.view(2,8)\n",
        "print()\n",
        "print(y)"
      ],
      "execution_count": 0,
      "outputs": [
        {
          "output_type": "stream",
          "text": [
            "tensor([[-0.5108,  0.1347, -1.9643, -1.1354],\n",
            "        [ 0.4257, -0.6068,  0.2019,  0.9682],\n",
            "        [ 1.1215, -0.1422, -0.5129,  0.6291],\n",
            "        [-0.8601, -0.6094, -0.3991,  0.5072]])\n",
            "\n",
            "tensor([[-0.5108,  0.1347, -1.9643, -1.1354,  0.4257, -0.6068,  0.2019,  0.9682],\n",
            "        [ 1.1215, -0.1422, -0.5129,  0.6291, -0.8601, -0.6094, -0.3991,  0.5072]])\n"
          ],
          "name": "stdout"
        }
      ]
    },
    {
      "cell_type": "code",
      "metadata": {
        "id": "OVoiqnKi9W7x",
        "colab_type": "code",
        "outputId": "85ff2c2a-6ab5-4fa3-b0ae-e2fbb852424d",
        "colab": {
          "base_uri": "https://localhost:8080/",
          "height": 55
        }
      },
      "source": [
        "x = torch.randn(1)\n",
        "print(x)\n",
        "print(x.item())"
      ],
      "execution_count": 0,
      "outputs": [
        {
          "output_type": "stream",
          "text": [
            "tensor([-0.7140])\n",
            "-0.7139708399772644\n"
          ],
          "name": "stdout"
        }
      ]
    },
    {
      "cell_type": "code",
      "metadata": {
        "id": "7UcG0AwHBJXs",
        "colab_type": "code",
        "outputId": "016510d4-7d5c-4b19-e5db-6e168356edcc",
        "colab": {
          "base_uri": "https://localhost:8080/",
          "height": 92
        }
      },
      "source": [
        "# 3.Numpy 배열로 변환하기\n",
        "\n",
        "a = torch.ones(5)\n",
        "print(a)\n",
        "\n",
        "b = a.numpy()\n",
        "print(b)\n",
        "\n",
        "print(type(a))\n",
        "print(type(b))"
      ],
      "execution_count": 0,
      "outputs": [
        {
          "output_type": "stream",
          "text": [
            "tensor([1., 1., 1., 1., 1.])\n",
            "[1. 1. 1. 1. 1.]\n",
            "<class 'torch.Tensor'>\n",
            "<class 'numpy.ndarray'>\n"
          ],
          "name": "stdout"
        }
      ]
    },
    {
      "cell_type": "code",
      "metadata": {
        "id": "g9hKDKF1EpsY",
        "colab_type": "code",
        "outputId": "25e10c79-10ed-4a30-f579-7ea251ff9a1b",
        "colab": {
          "base_uri": "https://localhost:8080/",
          "height": 55
        }
      },
      "source": [
        "a.add_(1)\n",
        "print(a)\n",
        "print(b)"
      ],
      "execution_count": 0,
      "outputs": [
        {
          "output_type": "stream",
          "text": [
            "tensor([2., 2., 2., 2., 2.])\n",
            "[2. 2. 2. 2. 2.]\n"
          ],
          "name": "stdout"
        }
      ]
    },
    {
      "cell_type": "code",
      "metadata": {
        "id": "vlj8c96-EuCa",
        "colab_type": "code",
        "outputId": "d4a54069-1dec-4d9a-95fe-80db90d6c077",
        "colab": {
          "base_uri": "https://localhost:8080/",
          "height": 55
        }
      },
      "source": [
        "import numpy as np\n",
        "\n",
        "np.add(b,1,out=b)\n",
        "print(a)\n",
        "print(b)"
      ],
      "execution_count": 0,
      "outputs": [
        {
          "output_type": "stream",
          "text": [
            "tensor([3., 3., 3., 3., 3.])\n",
            "[3. 3. 3. 3. 3.]\n"
          ],
          "name": "stdout"
        }
      ]
    },
    {
      "cell_type": "code",
      "metadata": {
        "id": "L1lHEcGJFfQy",
        "colab_type": "code",
        "outputId": "93a2abce-cddd-4d99-f3c6-3bac6af848a2",
        "colab": {
          "base_uri": "https://localhost:8080/",
          "height": 36
        }
      },
      "source": [
        "print(x)"
      ],
      "execution_count": 0,
      "outputs": [
        {
          "output_type": "stream",
          "text": [
            "tensor([-0.7140])\n"
          ],
          "name": "stdout"
        }
      ]
    },
    {
      "cell_type": "code",
      "metadata": {
        "id": "rRklK4ugEzSm",
        "colab_type": "code",
        "outputId": "4ae45b75-64f5-4031-97b1-c46c71da0b91",
        "colab": {
          "base_uri": "https://localhost:8080/",
          "height": 55
        }
      },
      "source": [
        "# CUDA\n",
        "\n",
        "if torch.cuda.is_available():\n",
        "  device = torch.device(\"cuda\")\n",
        "  y = torch.ones_like(x,device=device)\n",
        "  x = x.to(device)\n",
        "  z = x+y\n",
        "  print(z)\n",
        "  print(z.to(\"cpu\",torch.double))"
      ],
      "execution_count": 0,
      "outputs": [
        {
          "output_type": "stream",
          "text": [
            "tensor([0.2860], device='cuda:0')\n",
            "tensor([0.2860], dtype=torch.float64)\n"
          ],
          "name": "stdout"
        }
      ]
    },
    {
      "cell_type": "code",
      "metadata": {
        "id": "BulYLVaIFrB8",
        "colab_type": "code",
        "outputId": "e25e4454-41e7-4879-df3f-f3338b5efcee",
        "colab": {
          "base_uri": "https://localhost:8080/",
          "height": 55
        }
      },
      "source": [
        "# Autograd\n",
        "x = torch.ones(2,2,requires_grad=True)\n",
        "\n",
        "print(x)"
      ],
      "execution_count": 0,
      "outputs": [
        {
          "output_type": "stream",
          "text": [
            "tensor([[1., 1.],\n",
            "        [1., 1.]], requires_grad=True)\n"
          ],
          "name": "stdout"
        }
      ]
    },
    {
      "cell_type": "code",
      "metadata": {
        "id": "7K7nQxuwHrmp",
        "colab_type": "code",
        "outputId": "2b66ed03-0f25-4d65-f316-dfe9bc02fbf6",
        "colab": {
          "base_uri": "https://localhost:8080/",
          "height": 55
        }
      },
      "source": [
        "y = x + 2\n",
        "print(y)"
      ],
      "execution_count": 0,
      "outputs": [
        {
          "output_type": "stream",
          "text": [
            "tensor([[3., 3.],\n",
            "        [3., 3.]], grad_fn=<AddBackward0>)\n"
          ],
          "name": "stdout"
        }
      ]
    },
    {
      "cell_type": "code",
      "metadata": {
        "id": "TgCn6ysIHurn",
        "colab_type": "code",
        "outputId": "52c5c3cf-ae16-435f-c32b-7a366ff2032b",
        "colab": {
          "base_uri": "https://localhost:8080/",
          "height": 36
        }
      },
      "source": [
        "print(y.grad_fn)"
      ],
      "execution_count": 0,
      "outputs": [
        {
          "output_type": "stream",
          "text": [
            "<AddBackward0 object at 0x7f8e8674ba20>\n"
          ],
          "name": "stdout"
        }
      ]
    },
    {
      "cell_type": "code",
      "metadata": {
        "id": "ZrZC8GOXHx05",
        "colab_type": "code",
        "outputId": "8110541e-e42f-406c-f4a2-c7f59c7d4fb2",
        "colab": {
          "base_uri": "https://localhost:8080/",
          "height": 73
        }
      },
      "source": [
        "z = y * y * 3\n",
        "out = z\n",
        "print(out)\n",
        "\n",
        "out2 = z.mean()\n",
        "print(out2)"
      ],
      "execution_count": 0,
      "outputs": [
        {
          "output_type": "stream",
          "text": [
            "tensor([[27., 27.],\n",
            "        [27., 27.]], grad_fn=<MulBackward0>)\n",
            "tensor(27., grad_fn=<MeanBackward0>)\n"
          ],
          "name": "stdout"
        }
      ]
    },
    {
      "cell_type": "code",
      "metadata": {
        "id": "qXM0VBkjH7a2",
        "colab_type": "code",
        "colab": {}
      },
      "source": [
        "out = z.mean()"
      ],
      "execution_count": 0,
      "outputs": []
    },
    {
      "cell_type": "code",
      "metadata": {
        "id": "t0NSPOTnI0ly",
        "colab_type": "code",
        "colab": {}
      },
      "source": [
        "out.backward()"
      ],
      "execution_count": 0,
      "outputs": []
    },
    {
      "cell_type": "code",
      "metadata": {
        "id": "uA6TlQFYIrk_",
        "colab_type": "code",
        "outputId": "9bb7644a-e8a2-4dc5-e8f8-33f7cbebd373",
        "colab": {
          "base_uri": "https://localhost:8080/",
          "height": 55
        }
      },
      "source": [
        "print(x.grad)"
      ],
      "execution_count": 0,
      "outputs": [
        {
          "output_type": "stream",
          "text": [
            "tensor([[4.5000, 4.5000],\n",
            "        [4.5000, 4.5000]])\n"
          ],
          "name": "stdout"
        }
      ]
    },
    {
      "cell_type": "code",
      "metadata": {
        "id": "BeUGP1Q1I5gq",
        "colab_type": "code",
        "outputId": "1e53d4f4-2e34-40d9-aa54-5be8c79d0639",
        "colab": {
          "base_uri": "https://localhost:8080/",
          "height": 633
        }
      },
      "source": [
        "x = torch.randn(3,requires_grad=True)\n",
        "\n",
        "print(x)\n",
        "print()\n",
        "\n",
        "y = x * 2\n",
        "\n",
        "while y.data.norm() < 1000 :\n",
        "  y = y * 2\n",
        "  print(y)\n",
        "  print(y.data.norm()) # L2 Norm. 제곱합 후 루트\n",
        "  print()\n",
        "\n",
        "print(y)"
      ],
      "execution_count": 0,
      "outputs": [
        {
          "output_type": "stream",
          "text": [
            "tensor([0.7952, 0.2778, 0.2609], requires_grad=True)\n",
            "\n",
            "tensor([3.1809, 1.1110, 1.0435], grad_fn=<MulBackward0>)\n",
            "tensor(3.5273)\n",
            "\n",
            "tensor([6.3619, 2.2221, 2.0870], grad_fn=<MulBackward0>)\n",
            "tensor(7.0546)\n",
            "\n",
            "tensor([12.7238,  4.4441,  4.1740], grad_fn=<MulBackward0>)\n",
            "tensor(14.1091)\n",
            "\n",
            "tensor([25.4476,  8.8882,  8.3481], grad_fn=<MulBackward0>)\n",
            "tensor(28.2182)\n",
            "\n",
            "tensor([50.8951, 17.7764, 16.6961], grad_fn=<MulBackward0>)\n",
            "tensor(56.4365)\n",
            "\n",
            "tensor([101.7902,  35.5529,  33.3923], grad_fn=<MulBackward0>)\n",
            "tensor(112.8730)\n",
            "\n",
            "tensor([203.5805,  71.1058,  66.7846], grad_fn=<MulBackward0>)\n",
            "tensor(225.7459)\n",
            "\n",
            "tensor([407.1609, 142.2115, 133.5692], grad_fn=<MulBackward0>)\n",
            "tensor(451.4919)\n",
            "\n",
            "tensor([814.3219, 284.4231, 267.1384], grad_fn=<MulBackward0>)\n",
            "tensor(902.9837)\n",
            "\n",
            "tensor([1628.6438,  568.8461,  534.2768], grad_fn=<MulBackward0>)\n",
            "tensor(1805.9674)\n",
            "\n",
            "tensor([1628.6438,  568.8461,  534.2768], grad_fn=<MulBackward0>)\n"
          ],
          "name": "stdout"
        }
      ]
    },
    {
      "cell_type": "code",
      "metadata": {
        "id": "5j0HlDn8LtmW",
        "colab_type": "code",
        "outputId": "9c00fef9-c485-4785-9812-0a9410671bbd",
        "colab": {
          "base_uri": "https://localhost:8080/",
          "height": 36
        }
      },
      "source": [
        "v = torch.tensor([0.1,1.0,0.0001],dtype=torch.float)\n",
        "y.backward(v)\n",
        "\n",
        "print(x.grad)"
      ],
      "execution_count": 0,
      "outputs": [
        {
          "output_type": "stream",
          "text": [
            "tensor([2.0480e+02, 2.0480e+03, 2.0480e-01])\n"
          ],
          "name": "stdout"
        }
      ]
    },
    {
      "cell_type": "code",
      "metadata": {
        "id": "UhAm4nV1Lni3",
        "colab_type": "code",
        "outputId": "1f4b20e1-db92-499d-c087-5e89520b5069",
        "colab": {
          "base_uri": "https://localhost:8080/",
          "height": 73
        }
      },
      "source": [
        "print(x.requires_grad)\n",
        "print((x**2).requires_grad)\n",
        "\n",
        "with torch.no_grad():\n",
        "  print((x**2).requires_grad)"
      ],
      "execution_count": 0,
      "outputs": [
        {
          "output_type": "stream",
          "text": [
            "True\n",
            "True\n",
            "False\n"
          ],
          "name": "stdout"
        }
      ]
    },
    {
      "cell_type": "code",
      "metadata": {
        "id": "lzfk39dJM-dF",
        "colab_type": "code",
        "outputId": "49cb0488-1623-4fdc-e3ca-fcb2723f2e9f",
        "colab": {
          "base_uri": "https://localhost:8080/",
          "height": 148
        }
      },
      "source": [
        "# Neural net\n",
        "\n",
        "import torch.nn as nn\n",
        "import torch.nn.functional as F\n",
        "\n",
        "class Net(nn.Module):\n",
        "\n",
        "  def __init__(self):\n",
        "    super(Net,self).__init__()\n",
        "\n",
        "    self.conv1 = nn.Conv2d(1,6,3)\n",
        "    self.conv2 = nn.Conv2d(6,16,3)\n",
        "    self.fc1 = nn.Linear(16*6*6,120)\n",
        "    self.fc2 = nn.Linear(120,84)\n",
        "    self.fc3 = nn.Linear(84,10)\n",
        "\n",
        "  def forward(self,x):\n",
        "    print(\"forward!\")\n",
        "    print(x.size())\n",
        "    x = F.max_pool2d(F.relu(self.conv1(x)),(2,2))\n",
        "    print(x.size())\n",
        "    x = F.max_pool2d(F.relu(self.conv2(x)),2)\n",
        "    print(f\"전_x의 사이즈:{x.size()}\")\n",
        "    x = x.view(-1,self.num_flat_features(x))\n",
        "    print(f\"후_x의 사이즈:{x.size()}\")\n",
        "    x = F.relu(self.fc1(x))\n",
        "    x = F.relu(self.fc2(x))\n",
        "    x = self.fc3(x)\n",
        "    print(\"forward 완료!\")\n",
        "    return x\n",
        "\n",
        "  def num_flat_features(self,x):\n",
        "    print(\"num_flat_features!\")\n",
        "    print(f\"x.size: {x.size()}\")\n",
        "    size = x.size()[1:]\n",
        "    print(type(size))\n",
        "    print(f\"size: {size}\")\n",
        "    num_features = 1\n",
        "    for s in size:\n",
        "      print(s)\n",
        "      num_features *= s\n",
        "\n",
        "    print(f\"num_features: {num_features}\")\n",
        "    return num_features\n",
        "  \n",
        "net = Net()\n",
        "print(net)"
      ],
      "execution_count": 0,
      "outputs": [
        {
          "output_type": "stream",
          "text": [
            "Net(\n",
            "  (conv1): Conv2d(1, 6, kernel_size=(3, 3), stride=(1, 1))\n",
            "  (conv2): Conv2d(6, 16, kernel_size=(3, 3), stride=(1, 1))\n",
            "  (fc1): Linear(in_features=576, out_features=120, bias=True)\n",
            "  (fc2): Linear(in_features=120, out_features=84, bias=True)\n",
            "  (fc3): Linear(in_features=84, out_features=10, bias=True)\n",
            ")\n"
          ],
          "name": "stdout"
        }
      ]
    },
    {
      "cell_type": "code",
      "metadata": {
        "id": "qjHPQPFYLF8H",
        "colab_type": "code",
        "outputId": "b75d895d-bf2f-4f43-a351-2ca1e715a9d7",
        "colab": {
          "base_uri": "https://localhost:8080/",
          "height": 55
        }
      },
      "source": [
        "#list(net.parameters())\n",
        "params = list(net.parameters())\n",
        "print(len(params))\n",
        "print(params[0].size())"
      ],
      "execution_count": 0,
      "outputs": [
        {
          "output_type": "stream",
          "text": [
            "10\n",
            "torch.Size([6, 1, 3, 3])\n"
          ],
          "name": "stdout"
        }
      ]
    },
    {
      "cell_type": "code",
      "metadata": {
        "id": "RlFuQj9RgTHG",
        "colab_type": "code",
        "outputId": "fe0c2c20-dbbb-45e7-d05e-2f6fb16882d9",
        "colab": {
          "base_uri": "https://localhost:8080/",
          "height": 336
        }
      },
      "source": [
        "import torch\n",
        "\n",
        "input = torch.randn(1,1,32,32)\n",
        "out = net(input)\n",
        "print(out)"
      ],
      "execution_count": 0,
      "outputs": [
        {
          "output_type": "stream",
          "text": [
            "forward!\n",
            "torch.Size([1, 1, 32, 32])\n",
            "torch.Size([1, 6, 15, 15])\n",
            "전_x의 사이즈:torch.Size([1, 16, 6, 6])\n",
            "num_flat_features!\n",
            "x.size: torch.Size([1, 16, 6, 6])\n",
            "<class 'torch.Size'>\n",
            "size: torch.Size([16, 6, 6])\n",
            "16\n",
            "6\n",
            "6\n",
            "num_features: 576\n",
            "후_x의 사이즈:torch.Size([1, 576])\n",
            "forward 완료!\n",
            "tensor([[ 0.0616, -0.0946, -0.0355,  0.0749,  0.0730,  0.0660, -0.0839,  0.0548,\n",
            "          0.0621, -0.0103]], grad_fn=<AddmmBackward>)\n"
          ],
          "name": "stdout"
        }
      ]
    },
    {
      "cell_type": "code",
      "metadata": {
        "id": "2aaeIVGajGpY",
        "colab_type": "code",
        "colab": {}
      },
      "source": [
        "net.zero_grad()\n",
        "out.backward(torch.randn(1,10))"
      ],
      "execution_count": 0,
      "outputs": []
    },
    {
      "cell_type": "code",
      "metadata": {
        "id": "WFu80QspnOGS",
        "colab_type": "code",
        "outputId": "c29b0b1a-5692-4015-ab9d-3da0ded0eb34",
        "colab": {
          "base_uri": "https://localhost:8080/",
          "height": 297
        }
      },
      "source": [
        "output = net(input)\n",
        "target = torch.randn(10)\n",
        "target = target.view(1,-1)\n",
        "criterion = nn.MSELoss()\n",
        "\n",
        "loss = criterion(output,target)\n",
        "print(loss)"
      ],
      "execution_count": 0,
      "outputs": [
        {
          "output_type": "stream",
          "text": [
            "forward!\n",
            "torch.Size([1, 1, 32, 32])\n",
            "torch.Size([1, 6, 15, 15])\n",
            "전_x의 사이즈:torch.Size([1, 16, 6, 6])\n",
            "num_flat_features!\n",
            "x.size: torch.Size([1, 16, 6, 6])\n",
            "<class 'torch.Size'>\n",
            "size: torch.Size([16, 6, 6])\n",
            "16\n",
            "6\n",
            "6\n",
            "num_features: 576\n",
            "후_x의 사이즈:torch.Size([1, 576])\n",
            "forward 완료!\n",
            "tensor(1.2627, grad_fn=<MseLossBackward>)\n"
          ],
          "name": "stdout"
        }
      ]
    },
    {
      "cell_type": "code",
      "metadata": {
        "id": "cjGVL1r9CuVU",
        "colab_type": "code",
        "outputId": "9088f48c-5937-4a0c-e9ca-82bb8b33578f",
        "colab": {
          "base_uri": "https://localhost:8080/",
          "height": 129
        }
      },
      "source": [
        "# Backward()\n",
        "\n",
        "x = torch.ones(2,2,requires_grad=True)\n",
        "print(x)\n",
        "\n",
        "y = x + 2\n",
        "print(y)\n",
        "\n",
        "print()\n",
        "print(y.grad_fn)"
      ],
      "execution_count": 0,
      "outputs": [
        {
          "output_type": "stream",
          "text": [
            "tensor([[1., 1.],\n",
            "        [1., 1.]], requires_grad=True)\n",
            "tensor([[3., 3.],\n",
            "        [3., 3.]], grad_fn=<AddBackward0>)\n",
            "\n",
            "<AddBackward0 object at 0x7f8e7e12b9b0>\n"
          ],
          "name": "stdout"
        }
      ]
    },
    {
      "cell_type": "code",
      "metadata": {
        "id": "HHO_asj7C6pB",
        "colab_type": "code",
        "outputId": "7be41b5c-dfd6-4916-abea-a5e4ae3f9a8d",
        "colab": {
          "base_uri": "https://localhost:8080/",
          "height": 75
        }
      },
      "source": [
        "z = y * y * 3\n",
        "out = z.mean()\n",
        "\n",
        "print(z, out)"
      ],
      "execution_count": 0,
      "outputs": [
        {
          "output_type": "stream",
          "text": [
            "tensor([[27., 27.],\n",
            "        [27., 27.]], grad_fn=<MulBackward0>) tensor(27., grad_fn=<MeanBackward0>)\n"
          ],
          "name": "stdout"
        }
      ]
    },
    {
      "cell_type": "code",
      "metadata": {
        "id": "4Xvq0qKjDCiv",
        "colab_type": "code",
        "outputId": "ef55b627-9641-487b-8632-a0a9b93940fe",
        "colab": {
          "base_uri": "https://localhost:8080/",
          "height": 36
        }
      },
      "source": [
        "print(x.grad)"
      ],
      "execution_count": 0,
      "outputs": [
        {
          "output_type": "stream",
          "text": [
            "None\n"
          ],
          "name": "stdout"
        }
      ]
    },
    {
      "cell_type": "code",
      "metadata": {
        "id": "WfhNuETnP1J8",
        "colab_type": "code",
        "outputId": "2126351a-dac2-4ba6-fdd9-96ce3769c60e",
        "colab": {
          "base_uri": "https://localhost:8080/",
          "height": 36
        }
      },
      "source": [
        "z.size()"
      ],
      "execution_count": 0,
      "outputs": [
        {
          "output_type": "execute_result",
          "data": {
            "text/plain": [
              "torch.Size([2, 2])"
            ]
          },
          "metadata": {
            "tags": []
          },
          "execution_count": 35
        }
      ]
    },
    {
      "cell_type": "code",
      "metadata": {
        "id": "SAJ8_4YZP5Ul",
        "colab_type": "code",
        "outputId": "38706f84-98cb-4ae5-f62b-3b2cfe99303c",
        "colab": {
          "base_uri": "https://localhost:8080/",
          "height": 73
        }
      },
      "source": [
        "k=torch.tensor([[1,0.1],[10,0]])\n",
        "print(k)\n",
        "print(k.size())"
      ],
      "execution_count": 0,
      "outputs": [
        {
          "output_type": "stream",
          "text": [
            "tensor([[ 1.0000,  0.1000],\n",
            "        [10.0000,  0.0000]])\n",
            "torch.Size([2, 2])\n"
          ],
          "name": "stdout"
        }
      ]
    },
    {
      "cell_type": "code",
      "metadata": {
        "id": "OWcXILCDQCtD",
        "colab_type": "code",
        "colab": {}
      },
      "source": [
        "z.backward(k)"
      ],
      "execution_count": 0,
      "outputs": []
    },
    {
      "cell_type": "code",
      "metadata": {
        "id": "DbtC1jf9DE_i",
        "colab_type": "code",
        "outputId": "1d1fb10f-f02f-400b-d4b0-f2d8e160642f",
        "colab": {
          "base_uri": "https://localhost:8080/",
          "height": 55
        }
      },
      "source": [
        "print(x.grad)"
      ],
      "execution_count": 0,
      "outputs": [
        {
          "output_type": "stream",
          "text": [
            "tensor([[ 18.0000,   1.8000],\n",
            "        [180.0000,   0.0000]])\n"
          ],
          "name": "stdout"
        }
      ]
    },
    {
      "cell_type": "code",
      "metadata": {
        "id": "db_NNymfDZZD",
        "colab_type": "code",
        "outputId": "a36362e6-f9b1-4765-e2a2-993e4c1c6036",
        "colab": {
          "base_uri": "https://localhost:8080/",
          "height": 148
        }
      },
      "source": [
        "# Neural net 2\n",
        "\n",
        "import torch.nn as nn\n",
        "import torch.nn.functional as F\n",
        "\n",
        "class Net(nn.Module):\n",
        "\n",
        "  def __init__(self):\n",
        "    super(Net,self).__init__()\n",
        "\n",
        "    self.conv1 = nn.Conv2d(1,6,3)\n",
        "    self.conv2 = nn.Conv2d(6,16,3)\n",
        "    self.fc1 = nn.Linear(16*6*6,120)\n",
        "    self.fc2 = nn.Linear(120,84)\n",
        "    self.fc3 = nn.Linear(84,10)\n",
        "\n",
        "  def forward(self,x):\n",
        "    x = F.max_pool2d(F.relu(self.conv1(x)),(2,2))\n",
        "    x = F.max_pool2d(F.relu(self.conv2(x)),2)\n",
        "    x = x.view(-1,self.num_flat_features(x))\n",
        "    x = F.relu(self.fc1(x))\n",
        "    x = F.relu(self.fc2(x))\n",
        "    x = self.fc3(x)\n",
        "    return x\n",
        "\n",
        "  def num_flat_features(self,x):\n",
        "    size = x.size()[1:]\n",
        "    num_features = 1\n",
        "    for s in size:\n",
        "      num_features *= s\n",
        "    return num_features\n",
        "  \n",
        "net = Net()\n",
        "print(net)"
      ],
      "execution_count": 0,
      "outputs": [
        {
          "output_type": "stream",
          "text": [
            "Net(\n",
            "  (conv1): Conv2d(1, 6, kernel_size=(3, 3), stride=(1, 1))\n",
            "  (conv2): Conv2d(6, 16, kernel_size=(3, 3), stride=(1, 1))\n",
            "  (fc1): Linear(in_features=576, out_features=120, bias=True)\n",
            "  (fc2): Linear(in_features=120, out_features=84, bias=True)\n",
            "  (fc3): Linear(in_features=84, out_features=10, bias=True)\n",
            ")\n"
          ],
          "name": "stdout"
        }
      ]
    },
    {
      "cell_type": "code",
      "metadata": {
        "id": "rnnFI0-NTw5G",
        "colab_type": "code",
        "outputId": "e9322b25-e774-4d94-b52d-9e1046b25195",
        "colab": {
          "base_uri": "https://localhost:8080/",
          "height": 75
        }
      },
      "source": [
        "input = torch.randn(1,1,32,32)\n",
        "out = net(input)\n",
        "print(out)"
      ],
      "execution_count": 0,
      "outputs": [
        {
          "output_type": "stream",
          "text": [
            "tensor([[ 0.0019,  0.0860,  0.0934, -0.0158,  0.0662, -0.0460,  0.0714,  0.0021,\n",
            "          0.1830, -0.0512]], grad_fn=<AddmmBackward>)\n"
          ],
          "name": "stdout"
        }
      ]
    },
    {
      "cell_type": "code",
      "metadata": {
        "id": "jUrtOiLIT31i",
        "colab_type": "code",
        "colab": {}
      },
      "source": [
        "net.zero_grad()\n",
        "out.backward(torch.randn(1,10))"
      ],
      "execution_count": 0,
      "outputs": []
    },
    {
      "cell_type": "code",
      "metadata": {
        "id": "YT1zWykXT83A",
        "colab_type": "code",
        "outputId": "365b84d3-ef9e-419e-e0c7-fccbef62260d",
        "colab": {
          "base_uri": "https://localhost:8080/",
          "height": 36
        }
      },
      "source": [
        "output = net(input)\n",
        "target = torch.randn(10)\n",
        "target = target.view(1,-1)\n",
        "criterion = nn.MSELoss()\n",
        "\n",
        "loss = criterion(output,target)\n",
        "print(loss)"
      ],
      "execution_count": 0,
      "outputs": [
        {
          "output_type": "stream",
          "text": [
            "tensor(1.7560, grad_fn=<MseLossBackward>)\n"
          ],
          "name": "stdout"
        }
      ]
    },
    {
      "cell_type": "code",
      "metadata": {
        "id": "nTQO1c4kUGp_",
        "colab_type": "code",
        "outputId": "b35dbebf-eba1-4bbf-fb10-31054218fcdf",
        "colab": {
          "base_uri": "https://localhost:8080/",
          "height": 73
        }
      },
      "source": [
        "print(loss.grad_fn)\n",
        "print(loss.grad_fn.next_functions[0][0])  # Linear\n",
        "print(loss.grad_fn.next_functions[0][0].next_functions[0][0])  # ReLU"
      ],
      "execution_count": 0,
      "outputs": [
        {
          "output_type": "stream",
          "text": [
            "<MseLossBackward object at 0x7f8e76ffdf98>\n",
            "<AddmmBackward object at 0x7f8e76e529b0>\n",
            "<AccumulateGrad object at 0x7f8e76e52cc0>\n"
          ],
          "name": "stdout"
        }
      ]
    },
    {
      "cell_type": "code",
      "metadata": {
        "id": "KeyAM0znUT4x",
        "colab_type": "code",
        "outputId": "3cf9da96-5868-4201-bf58-921351d4910a",
        "colab": {
          "base_uri": "https://localhost:8080/",
          "height": 92
        }
      },
      "source": [
        "net.zero_grad()\n",
        "\n",
        "print('conv1.bias.grad before backward')\n",
        "print(net.conv1.bias.grad)\n",
        "\n",
        "loss.backward()\n",
        "\n",
        "print('conv1.bias.grad after backward')\n",
        "print(net.conv1.bias.grad)"
      ],
      "execution_count": 0,
      "outputs": [
        {
          "output_type": "stream",
          "text": [
            "conv1.bias.grad before backward\n",
            "tensor([0., 0., 0., 0., 0., 0.])\n",
            "conv1.bias.grad after backward\n",
            "tensor([ 0.0123,  0.0175, -0.0390,  0.0139, -0.0314, -0.0030])\n"
          ],
          "name": "stdout"
        }
      ]
    },
    {
      "cell_type": "code",
      "metadata": {
        "id": "8JHeFmOuWW2L",
        "colab_type": "code",
        "colab": {}
      },
      "source": [
        "import torch.optim as optim\n",
        "\n",
        "optimizer = optim.SGD(net.parameters(),lr=0.01)\n",
        "\n",
        "optimizer.zero_grad()\n",
        "output = net(input)\n",
        "loss = criterion(output,target)\n",
        "loss.backward()\n",
        "optimizer.step()"
      ],
      "execution_count": 0,
      "outputs": []
    },
    {
      "cell_type": "code",
      "metadata": {
        "id": "PLzwcnphXCfr",
        "colab_type": "code",
        "colab": {}
      },
      "source": [
        ""
      ],
      "execution_count": 0,
      "outputs": []
    },
    {
      "cell_type": "code",
      "metadata": {
        "id": "fkVR_S96UNGQ",
        "colab_type": "code",
        "colab": {}
      },
      "source": [
        ""
      ],
      "execution_count": 0,
      "outputs": []
    },
    {
      "cell_type": "code",
      "metadata": {
        "id": "OS4Iu6QKUJes",
        "colab_type": "code",
        "colab": {}
      },
      "source": [
        ""
      ],
      "execution_count": 0,
      "outputs": []
    }
  ]
}